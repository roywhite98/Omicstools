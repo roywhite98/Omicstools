{
 "metadata": {
  "language_info": {
   "codemirror_mode": {
    "name": "ipython",
    "version": 3
   },
   "file_extension": ".py",
   "mimetype": "text/x-python",
   "name": "python",
   "nbconvert_exporter": "python",
   "pygments_lexer": "ipython3",
   "version": "3.9.4"
  },
  "orig_nbformat": 2,
  "kernelspec": {
   "name": "python3",
   "display_name": "Python 3.9.4 64-bit"
  },
  "metadata": {
   "interpreter": {
    "hash": "0a67b383376bbc3f268150e8a766376259116456469e7f7cea52e2e925b8a72d"
   }
  },
  "interpreter": {
   "hash": "0a67b383376bbc3f268150e8a766376259116456469e7f7cea52e2e925b8a72d"
  }
 },
 "nbformat": 4,
 "nbformat_minor": 2,
 "cells": [
  {
   "cell_type": "code",
   "execution_count": null,
   "source": [
    "res = {'a':'ajdalf',\n",
    "    'b':'assdd',\n",
    "    'c':'ffffffffffffffff',\n",
    "    'd':'sdfa',\n",
    "    'e':'s',\n",
    "    'f':'kashdfalhdiofhaohfweiuyr'\n",
    "}\n",
    "max(res,key=res.get)"
   ],
   "outputs": [],
   "metadata": {}
  },
  {
   "cell_type": "code",
   "execution_count": null,
   "source": [
    "import re\n",
    "line1 = 'lkaj-s.jskdjiwn'\n",
    "name = re.split('[-|.]', line1)[0]\n",
    "print(name)"
   ],
   "outputs": [],
   "metadata": {}
  },
  {
   "cell_type": "code",
   "execution_count": null,
   "source": [
    "dic = {}\n",
    "dic['d'] = []\n",
    "dic['d'].append(['a','b'])\n",
    "print(dic['d'])"
   ],
   "outputs": [],
   "metadata": {}
  },
  {
   "cell_type": "code",
   "execution_count": null,
   "source": [
    "seq = 'ATCGGCTAGGGGGGGGGCTTATATGAC'\n",
    "seq.count('G')"
   ],
   "outputs": [],
   "metadata": {}
  },
  {
   "cell_type": "code",
   "execution_count": null,
   "source": [
    "from BCBio import GFF\n",
    "help(GFF)\n"
   ],
   "outputs": [],
   "metadata": {}
  },
  {
   "cell_type": "code",
   "execution_count": null,
   "source": [
    "import re\n",
    "line = ' Identities = 58/86 (67%), Positives = 65/86 (76%), Gaps = 0/86 (0%)'\n",
    "int(re.search('\\d*%',line).group()[0:-1])\n"
   ],
   "outputs": [],
   "metadata": {}
  },
  {
   "cell_type": "code",
   "execution_count": null,
   "source": [
    "import pandas as pd\n",
    "data = {\n",
    "    'state':['Ohio','Ohio','Ohio','Nevada','Nevada'],\n",
    "    'year':[2000,2001,2002,2001,2002],\n",
    "    'pop':[1.5,1.7,3.6,2.4,2.9]\n",
    "}\n",
    "frame = pd.DataFrame(data)\n",
    "for i in frame.index:\n",
    "    print(frame['state'][i])"
   ],
   "outputs": [],
   "metadata": {}
  },
  {
   "cell_type": "code",
   "execution_count": null,
   "source": [
    "def extract_gene(fa1:str,fa2:list):\n",
    "    # extract gene according to another fasta file\n",
    "    if (type(fa1).__name__=='str'): # fa1 is a filename\n",
    "        print('yes str')\n",
    "    if (type(fa2).__name__=='list'):\n",
    "        print('yes list')\n",
    "extract_gene('name',[1,2,3])"
   ],
   "outputs": [],
   "metadata": {}
  },
  {
   "cell_type": "code",
   "execution_count": null,
   "source": [
    "d1 = {'a':1,'b':2}\n",
    "d2 = {'a':1,'b':3,'c':3}\n",
    "d = d1|d2\n",
    "d"
   ],
   "outputs": [],
   "metadata": {}
  },
  {
   "cell_type": "code",
   "execution_count": null,
   "source": [
    "import os\n",
    "import sys\n",
    "import os\n",
    "print(os.system('notepad'))"
   ],
   "outputs": [],
   "metadata": {}
  },
  {
   "cell_type": "code",
   "execution_count": null,
   "source": [
    "string = 'hwrn.fasta'\n",
    "string.removesuffix('fas').removesuffix('fa').removesuffix('fasta')\n"
   ],
   "outputs": [],
   "metadata": {}
  },
  {
   "cell_type": "code",
   "execution_count": null,
   "source": [
    "dict = {\n",
    "        ('prot', 'prot'): 'blastp',\n",
    "        'prot, nucl': 'tblastn',\n",
    "        'nucl, prot': 'tblastx', \n",
    "        'nucl, nucl': 'blastn'\n",
    "        }\n",
    "file1 = 'prot'\n",
    "file2 = 'prot'\n",
    "dict[file1,file2]"
   ],
   "outputs": [],
   "metadata": {}
  },
  {
   "cell_type": "code",
   "execution_count": null,
   "source": [
    "import os\n",
    "os.system('makeblastdb -help')"
   ],
   "outputs": [],
   "metadata": {}
  },
  {
   "cell_type": "code",
   "execution_count": null,
   "source": [
    "query_simplify ='na.fa'\n",
    "db_simplify = 'h.d'\n",
    "out = query_simplify + '2' + db_simplify\n",
    "out"
   ],
   "outputs": [],
   "metadata": {}
  },
  {
   "cell_type": "code",
   "execution_count": null,
   "source": [
    "from collections import Counter\n"
   ],
   "outputs": [],
   "metadata": {}
  },
  {
   "cell_type": "code",
   "execution_count": null,
   "source": [
    "enrich_score = 3.141567\n",
    "a = \":.2f\".format(enrich_score)\n",
    "print(a)"
   ],
   "outputs": [],
   "metadata": {}
  },
  {
   "cell_type": "code",
   "execution_count": null,
   "source": [
    "list1 = [1,2,3,4,7,8,9]\n",
    "list2 = [2,3,4,5,6,7,8]\n",
    "list(set(list1).difference(list2))"
   ],
   "outputs": [],
   "metadata": {}
  },
  {
   "cell_type": "code",
   "execution_count": null,
   "source": [
    "from upsetplot import generate_counts\n",
    "example = generate_counts()\n",
    "example \n",
    "\n",
    "from upsetplot import plot\n",
    "plot(example, show_counts='%d')"
   ],
   "outputs": [],
   "metadata": {}
  },
  {
   "cell_type": "code",
   "execution_count": null,
   "source": [
    "lis = []\n",
    "str = ''\n",
    "if str in lis:\n",
    "    print('y')\n",
    "else:\n",
    "    print('n')"
   ],
   "outputs": [],
   "metadata": {}
  },
  {
   "cell_type": "code",
   "execution_count": null,
   "source": [
    "import pprint\n",
    "from BCBio.GFF import GFFExaminer\n",
    "\n",
    "in_file = \"E:\\PhDprogram\\WAKgenefamily\\MH\\\\MH63_chr_v2.gff\"\n",
    "examiner = GFFExaminer()\n",
    "in_handle = open(in_file)\n",
    "pprint.pprint(examiner.available_limits(in_handle))\n",
    "in_handle.close()"
   ],
   "outputs": [],
   "metadata": {}
  },
  {
   "cell_type": "code",
   "execution_count": null,
   "source": [
    "from BCBio import GFF\n",
    "in_file = \"E:\\PhDprogram\\WAKgenefamily\\MH\\\\MH63_chr_v2.gff\"\n",
    "in_handle = open(in_file)\n",
    "for rec in GFF.parse(in_handle):\n",
    "    print(rec)\n",
    "in_handle.close()"
   ],
   "outputs": [],
   "metadata": {}
  },
  {
   "cell_type": "code",
   "execution_count": null,
   "source": [
    "'''\n",
    "Descripttion: \n",
    "version: \n",
    "Author: Roy White\n",
    "Date: 2021-07-13 10:22:17\n",
    "LastEditors: Roy White\n",
    "LastEditTime: 2021-07-19 15:21:24\n",
    "'''\n",
    "from matplotlib import patches\n",
    "import matplotlib.pyplot as plt\n",
    "import numpy as np\n",
    "''' upset plot '''\n",
    "\n",
    "def upsetplot():\n",
    "    \n",
    "    from upsetplot import from_memberships\n",
    "    example = from_memberships(\n",
    "    [[],\n",
    "        ['cat2'],\n",
    "        ['cat1'],\n",
    "        ['cat1', 'cat2'],\n",
    "        ['cat0'],\n",
    "        ['cat0', 'cat2'],\n",
    "        ['cat0', 'cat1'],\n",
    "        ['cat0', 'cat1', 'cat2'],\n",
    "        ],\n",
    "        data=[56, 283, 1279, 5882, 24, 90, 429, 1957]\n",
    "    )\n",
    "    path = ''\n",
    "    \n",
    "    # from upsetplot import generate_counts\n",
    "    # example = generate_counts()\n",
    "\n",
    "    from upsetplot import plot\n",
    "    plot(example, show_counts='%d')\n",
    "    plt.show()\n",
    "\n",
    "# plt.savefig(path)\n",
    "\n",
    "def barplot(x, y, title):\n",
    "    plt.bar(x, y)\n",
    "    plt.title(title)\n",
    "    plt.show()\n",
    "\n",
    "def multibarplot(list1, list2, x_axis):\n",
    "    # lang:Chinese\n",
    "    plt.rcParams['font.sans-serif'] = ['SimHei']\n",
    "    # show minus correctllist2\n",
    "    plt.rcParams['axes.unicode_minus'] = False\n",
    "\n",
    "    # x_axis = ['碳酸饮料', '绿茶', '矿泉水', '果汁', '其他']\n",
    "    # list1 = [6, 7, 6, 1, 2]\n",
    "    # list2 = [9, 4, 4, 5, 6]\n",
    " \n",
    "    bar_width = 0.3 # 条形宽度\n",
    "    index_list1 = np.arange(len(x_axis)) # 男生条形图的横坐标\n",
    "    index_list2 = index_list1 + bar_width # 女生条形图的横坐标\n",
    "    \n",
    "    # 使用两次 bar 函数画出两组条形图\n",
    "    plt.bar(index_list1, height=list1, width=bar_width, color='b', label='list1')\n",
    "    plt.bar(index_list2, height=list2, width=bar_width, color='r', label='list2')\n",
    "    \n",
    "    plt.legend() # 显示图例\n",
    "    plt.xticks(index_list1 + bar_width/2, x_axis) # 让横坐标轴刻度显示 x_axis 里的饮用水， index_list1 + bar_width/2 为横坐标轴刻度的位置\n",
    "    plt.ylabel('纵坐标') # 纵坐标轴标题\n",
    "    plt.title('一个标题') # 图形标题\n",
    "    plt.xticks(rotation=45) # 转横坐标轴标签\n",
    "\n",
    "    plt.show()\n",
    "\n",
    "\n",
    "def venn(list1, list2, list3=[]):\n",
    "    from matplotlib_venn import venn3, venn3_circles\n",
    "    from matplotlib_venn import venn2, venn2_circles\n",
    "    ## 首先是两个list的韦恩图\n",
    "    if list3:\n",
    "        venn3([set(list1), set(list2),set(list3)],set_labels = ('list1', 'list2',\"list3\"))\n",
    "    else:\n",
    "        venn2([set(list1), set(list2)], set_labels = ('list1', 'list2'))\n",
    "    plt.show()\n",
    "\n",
    "\n",
    "if __name__=='__main__':\n",
    "    data1 = (3,9.05,16.9,19,22.5,10.5,18.5,28.5,25,24,1.5,22,10,20.25,17.5,24.5)\n",
    "    data2 = (17.5,14.66666667,17,2.833333333,20.5,23,14.25,15,17.375,17.5)\n",
    "    plt.rcParams['font.sans-serif'] = ['SimHei']\n",
    "    plt.rcParams['axes.unicode_minus'] = False\n",
    "    x1 = np.array([\"SS284\",\"SS293\",\"SS314\",\"SS329\",\"SS339\",\"SS366\",\"SS376\",\"SS398\",\"SS399\",\"SS407\",\"SS410\",\"SS417\",\"SS421\",\"SS429\",\"SS474\",\"SS477\"])\n",
    "    x2 = np.array([\"SS295\",\"SS306\",\"SS344\",\"SS363\",\"SS365\",\"SS414\",\"SS433\",\"SS442\",\"SS446\",\"SS458\"])\n",
    "    plt.figure(1)\n",
    "    ax1 = plt.subplot(211)\n",
    "    barplot(x1,data1,\"硬实土壤处理下粳稻株高\")\n",
    "    ax1 = plt.subplot(212)\n",
    "    barplot(x2,data2,\"硬实土壤处理下籼稻株高\")\n"
   ],
   "outputs": [],
   "metadata": {}
  },
  {
   "cell_type": "code",
   "execution_count": null,
   "source": [
    "import  matplotlib.pyplot as plt\n",
    "import numpy as np \n",
    "\n",
    "plt.rcParams['font.sans-serif']=['SimHei'] # 用来正常显示中文标签\n",
    "plt.rcParams['axes.unicode_minus']=False # 用来正常显示负号\n",
    "\n",
    "\n",
    "t=np.arange(0.0,2.0,0.1)\n",
    "s=np.sin(t*np.pi)\n",
    "\n",
    "plt.figure(figsize=(8,8), dpi=80)\n",
    "plt.figure(1)\n",
    "ax1 = plt.subplot(221)\n",
    "ax1.plot(t,s, color=\"r\",linestyle = \"--\")\n",
    "ax2 = plt.subplot(222)\n",
    "ax2.plot(t,s,color=\"y\",linestyle = \"-\")\n",
    "ax3 = plt.subplot(223)\n",
    "ax3.plot(t,s,color=\"g\",linestyle = \"-.\")\n",
    "ax4 = plt.subplot(224)\n",
    "ax4.plot(t,s,color=\"b\",linestyle = \":\")"
   ],
   "outputs": [],
   "metadata": {}
  },
  {
   "cell_type": "code",
   "execution_count": null,
   "source": [
    "Falist = [1,3,5,9,7]\n",
    "for i in range(len(Falist)):\n",
    "    print(i)"
   ],
   "outputs": [],
   "metadata": {}
  },
  {
   "cell_type": "code",
   "execution_count": null,
   "source": [
    "sgRNA = 'CGGGTCTCA  TACATTGGCATG tgcaccagccggg'\n",
    "sgRNA.upper()\n"
   ],
   "outputs": [],
   "metadata": {}
  },
  {
   "cell_type": "code",
   "execution_count": null,
   "source": [
    "a = {}\n",
    "print(a.items() & b.items())"
   ],
   "outputs": [],
   "metadata": {}
  },
  {
   "cell_type": "markdown",
   "source": [
    "# 测试re"
   ],
   "metadata": {}
  },
  {
   "cell_type": "code",
   "execution_count": 60,
   "source": [
    "import re\n",
    "\n",
    "pattern = re.compile(r'\\\\[^\\\\]+$')\n",
    "string = r'E:\\BaiduNetdiskWorkspace\\omicstools\\tests.txt'\n",
    "a = re.sub(pattern, '', string)\n",
    "print(a)\n"
   ],
   "outputs": [
    {
     "output_type": "error",
     "ename": "error",
     "evalue": "bad escape \\B at position 2",
     "traceback": [
      "\u001b[1;31m---------------------------------------------------------------------------\u001b[0m",
      "\u001b[1;31mKeyError\u001b[0m                                  Traceback (most recent call last)",
      "\u001b[1;32mD:\\Software\\Python\\lib\\sre_parse.py\u001b[0m in \u001b[0;36mparse_template\u001b[1;34m(source, state)\u001b[0m\n\u001b[0;32m   1038\u001b[0m                 \u001b[1;32mtry\u001b[0m\u001b[1;33m:\u001b[0m\u001b[1;33m\u001b[0m\u001b[1;33m\u001b[0m\u001b[0m\n\u001b[1;32m-> 1039\u001b[1;33m                     \u001b[0mthis\u001b[0m \u001b[1;33m=\u001b[0m \u001b[0mchr\u001b[0m\u001b[1;33m(\u001b[0m\u001b[0mESCAPES\u001b[0m\u001b[1;33m[\u001b[0m\u001b[0mthis\u001b[0m\u001b[1;33m]\u001b[0m\u001b[1;33m[\u001b[0m\u001b[1;36m1\u001b[0m\u001b[1;33m]\u001b[0m\u001b[1;33m)\u001b[0m\u001b[1;33m\u001b[0m\u001b[1;33m\u001b[0m\u001b[0m\n\u001b[0m\u001b[0;32m   1040\u001b[0m                 \u001b[1;32mexcept\u001b[0m \u001b[0mKeyError\u001b[0m\u001b[1;33m:\u001b[0m\u001b[1;33m\u001b[0m\u001b[1;33m\u001b[0m\u001b[0m\n",
      "\u001b[1;31mKeyError\u001b[0m: '\\\\B'",
      "\nDuring handling of the above exception, another exception occurred:\n",
      "\u001b[1;31merror\u001b[0m                                     Traceback (most recent call last)",
      "\u001b[1;32m<ipython-input-60-131e2a1a93b8>\u001b[0m in \u001b[0;36m<module>\u001b[1;34m\u001b[0m\n\u001b[0;32m      3\u001b[0m \u001b[0mpattern\u001b[0m \u001b[1;33m=\u001b[0m \u001b[0mre\u001b[0m\u001b[1;33m.\u001b[0m\u001b[0mcompile\u001b[0m\u001b[1;33m(\u001b[0m\u001b[1;34mr'\\\\[^\\\\]+$'\u001b[0m\u001b[1;33m)\u001b[0m\u001b[1;33m\u001b[0m\u001b[1;33m\u001b[0m\u001b[0m\n\u001b[0;32m      4\u001b[0m \u001b[0mstring\u001b[0m \u001b[1;33m=\u001b[0m \u001b[1;34mr'E:\\BaiduNetdiskWorkspace\\omicstools\\tests.txt'\u001b[0m\u001b[1;33m\u001b[0m\u001b[1;33m\u001b[0m\u001b[0m\n\u001b[1;32m----> 5\u001b[1;33m \u001b[0ma\u001b[0m \u001b[1;33m=\u001b[0m \u001b[0mpattern\u001b[0m\u001b[1;33m.\u001b[0m\u001b[0msub\u001b[0m\u001b[1;33m(\u001b[0m\u001b[0mstring\u001b[0m\u001b[1;33m,\u001b[0m \u001b[1;34m''\u001b[0m\u001b[1;33m)\u001b[0m\u001b[1;33m\u001b[0m\u001b[1;33m\u001b[0m\u001b[0m\n\u001b[0m\u001b[0;32m      6\u001b[0m \u001b[0mprint\u001b[0m\u001b[1;33m(\u001b[0m\u001b[0ma\u001b[0m\u001b[1;33m)\u001b[0m\u001b[1;33m\u001b[0m\u001b[1;33m\u001b[0m\u001b[0m\n",
      "\u001b[1;32mD:\\Software\\Python\\lib\\re.py\u001b[0m in \u001b[0;36m_subx\u001b[1;34m(pattern, template)\u001b[0m\n\u001b[0;32m    325\u001b[0m \u001b[1;32mdef\u001b[0m \u001b[0m_subx\u001b[0m\u001b[1;33m(\u001b[0m\u001b[0mpattern\u001b[0m\u001b[1;33m,\u001b[0m \u001b[0mtemplate\u001b[0m\u001b[1;33m)\u001b[0m\u001b[1;33m:\u001b[0m\u001b[1;33m\u001b[0m\u001b[1;33m\u001b[0m\u001b[0m\n\u001b[0;32m    326\u001b[0m     \u001b[1;31m# internal: Pattern.sub/subn implementation helper\u001b[0m\u001b[1;33m\u001b[0m\u001b[1;33m\u001b[0m\u001b[1;33m\u001b[0m\u001b[0m\n\u001b[1;32m--> 327\u001b[1;33m     \u001b[0mtemplate\u001b[0m \u001b[1;33m=\u001b[0m \u001b[0m_compile_repl\u001b[0m\u001b[1;33m(\u001b[0m\u001b[0mtemplate\u001b[0m\u001b[1;33m,\u001b[0m \u001b[0mpattern\u001b[0m\u001b[1;33m)\u001b[0m\u001b[1;33m\u001b[0m\u001b[1;33m\u001b[0m\u001b[0m\n\u001b[0m\u001b[0;32m    328\u001b[0m     \u001b[1;32mif\u001b[0m \u001b[1;32mnot\u001b[0m \u001b[0mtemplate\u001b[0m\u001b[1;33m[\u001b[0m\u001b[1;36m0\u001b[0m\u001b[1;33m]\u001b[0m \u001b[1;32mand\u001b[0m \u001b[0mlen\u001b[0m\u001b[1;33m(\u001b[0m\u001b[0mtemplate\u001b[0m\u001b[1;33m[\u001b[0m\u001b[1;36m1\u001b[0m\u001b[1;33m]\u001b[0m\u001b[1;33m)\u001b[0m \u001b[1;33m==\u001b[0m \u001b[1;36m1\u001b[0m\u001b[1;33m:\u001b[0m\u001b[1;33m\u001b[0m\u001b[1;33m\u001b[0m\u001b[0m\n\u001b[0;32m    329\u001b[0m         \u001b[1;31m# literal replacement\u001b[0m\u001b[1;33m\u001b[0m\u001b[1;33m\u001b[0m\u001b[1;33m\u001b[0m\u001b[0m\n",
      "\u001b[1;32mD:\\Software\\Python\\lib\\re.py\u001b[0m in \u001b[0;36m_compile_repl\u001b[1;34m(repl, pattern)\u001b[0m\n\u001b[0;32m    316\u001b[0m \u001b[1;32mdef\u001b[0m \u001b[0m_compile_repl\u001b[0m\u001b[1;33m(\u001b[0m\u001b[0mrepl\u001b[0m\u001b[1;33m,\u001b[0m \u001b[0mpattern\u001b[0m\u001b[1;33m)\u001b[0m\u001b[1;33m:\u001b[0m\u001b[1;33m\u001b[0m\u001b[1;33m\u001b[0m\u001b[0m\n\u001b[0;32m    317\u001b[0m     \u001b[1;31m# internal: compile replacement pattern\u001b[0m\u001b[1;33m\u001b[0m\u001b[1;33m\u001b[0m\u001b[1;33m\u001b[0m\u001b[0m\n\u001b[1;32m--> 318\u001b[1;33m     \u001b[1;32mreturn\u001b[0m \u001b[0msre_parse\u001b[0m\u001b[1;33m.\u001b[0m\u001b[0mparse_template\u001b[0m\u001b[1;33m(\u001b[0m\u001b[0mrepl\u001b[0m\u001b[1;33m,\u001b[0m \u001b[0mpattern\u001b[0m\u001b[1;33m)\u001b[0m\u001b[1;33m\u001b[0m\u001b[1;33m\u001b[0m\u001b[0m\n\u001b[0m\u001b[0;32m    319\u001b[0m \u001b[1;33m\u001b[0m\u001b[0m\n\u001b[0;32m    320\u001b[0m \u001b[1;32mdef\u001b[0m \u001b[0m_expand\u001b[0m\u001b[1;33m(\u001b[0m\u001b[0mpattern\u001b[0m\u001b[1;33m,\u001b[0m \u001b[0mmatch\u001b[0m\u001b[1;33m,\u001b[0m \u001b[0mtemplate\u001b[0m\u001b[1;33m)\u001b[0m\u001b[1;33m:\u001b[0m\u001b[1;33m\u001b[0m\u001b[1;33m\u001b[0m\u001b[0m\n",
      "\u001b[1;32mD:\\Software\\Python\\lib\\sre_parse.py\u001b[0m in \u001b[0;36mparse_template\u001b[1;34m(source, state)\u001b[0m\n\u001b[0;32m   1040\u001b[0m                 \u001b[1;32mexcept\u001b[0m \u001b[0mKeyError\u001b[0m\u001b[1;33m:\u001b[0m\u001b[1;33m\u001b[0m\u001b[1;33m\u001b[0m\u001b[0m\n\u001b[0;32m   1041\u001b[0m                     \u001b[1;32mif\u001b[0m \u001b[0mc\u001b[0m \u001b[1;32min\u001b[0m \u001b[0mASCIILETTERS\u001b[0m\u001b[1;33m:\u001b[0m\u001b[1;33m\u001b[0m\u001b[1;33m\u001b[0m\u001b[0m\n\u001b[1;32m-> 1042\u001b[1;33m                         \u001b[1;32mraise\u001b[0m \u001b[0ms\u001b[0m\u001b[1;33m.\u001b[0m\u001b[0merror\u001b[0m\u001b[1;33m(\u001b[0m\u001b[1;34m'bad escape %s'\u001b[0m \u001b[1;33m%\u001b[0m \u001b[0mthis\u001b[0m\u001b[1;33m,\u001b[0m \u001b[0mlen\u001b[0m\u001b[1;33m(\u001b[0m\u001b[0mthis\u001b[0m\u001b[1;33m)\u001b[0m\u001b[1;33m)\u001b[0m\u001b[1;33m\u001b[0m\u001b[1;33m\u001b[0m\u001b[0m\n\u001b[0m\u001b[0;32m   1043\u001b[0m                 \u001b[0mlappend\u001b[0m\u001b[1;33m(\u001b[0m\u001b[0mthis\u001b[0m\u001b[1;33m)\u001b[0m\u001b[1;33m\u001b[0m\u001b[1;33m\u001b[0m\u001b[0m\n\u001b[0;32m   1044\u001b[0m         \u001b[1;32melse\u001b[0m\u001b[1;33m:\u001b[0m\u001b[1;33m\u001b[0m\u001b[1;33m\u001b[0m\u001b[0m\n",
      "\u001b[1;31merror\u001b[0m: bad escape \\B at position 2"
     ]
    }
   ],
   "metadata": {}
  },
  {
   "cell_type": "code",
   "execution_count": 1,
   "source": [
    "def easy_blast(db: str, db_type: str, query: str, query_type: str, out: str, evalue='10', outfmt='6'):\n",
    "    # build blast database\n",
    "    query_simplify = query.removesuffix(\n",
    "        '.fas').removesuffix('.fa').removesuffix('.fasta')\n",
    "    db_simplify = db.removesuffix('.fa').removesuffix(\n",
    "        '.fas').removesuffix('.fasta')\n",
    "    db_name = db_simplify + '.db'  # database name, consis of infile + db\n",
    "    flag = f'makeblastdb -in {db} -out {db_name} -dbtype {db_type} -parse_seqids'\n",
    "    print(flag)\n",
    "\n",
    "    dict = {\n",
    "        ('prot', 'prot'): 'blastp',\n",
    "        ('prot', 'nucl'): 'tblastn',\n",
    "        ('nucl', 'prot'): 'blastx',\n",
    "        ('nucl', 'nucl'): 'blastn'\n",
    "    }\n",
    "    if not out:\n",
    "        out = query_simplify + '2' + db_simplify.split('\\\\')[-1] + '.blastout'\n",
    "\n",
    "    blast_program = dict[query_type, db_type]\n",
    "    # run, return 0, else return 1;\n",
    "    flag = f'{blast_program} -query {query} -db {db_name} -out {out} -evalue {evalue} -outfmt {outfmt}'\n",
    "    print(flag)\n",
    "\n",
    "\n",
    "easy_blast( 'E:\\BaiduNetdiskWorkspace\\omicstools\\tests\\IRGSP-1.0_genome.fasta',\n",
    "            'nucl',\n",
    "            'E:\\BaiduNetdiskWorkspace\\PhDprogram\\Mechanically sensitive protein\\01_Method\\CRISPR\\gene candidates\\LOC9271287.mRNA.fa',\n",
    "            'nucl',\n",
    "            'out')"
   ],
   "outputs": [
    {
     "output_type": "stream",
     "name": "stdout",
     "text": [
      "makeblastdb -in E:\\BaiduNetdiskWorkspace\\omicstools\tests\\IRGSP-1.0_genome.fasta -out E:\\BaiduNetdiskWorkspace\\omicstools\tests\\IRGSP-1.0_genome.db -dbtype nucl -parse_seqids\n",
      "blastn -query E:\\BaiduNetdiskWorkspace\\PhDprogram\\Mechanically sensitive protein\u0001_Method\\CRISPR\\gene candidates\\LOC9271287.mRNA.fa -db E:\\BaiduNetdiskWorkspace\\omicstools\tests\\IRGSP-1.0_genome.db -out out -evalue 10 -outfmt 6\n"
     ]
    }
   ],
   "metadata": {}
  },
  {
   "cell_type": "code",
   "execution_count": 2,
   "source": [
    "string = '123456789abcdefg'\n",
    "print(string[-2:])\n",
    "string = 'CTTAAGCATTAGTACCAGTAT'\n",
    "print(string[::-1])"
   ],
   "outputs": [
    {
     "output_type": "stream",
     "name": "stdout",
     "text": [
      "fg\n",
      "TATGACCATGATTACGAATTC\n"
     ]
    }
   ],
   "metadata": {}
  },
  {
   "cell_type": "code",
   "execution_count": 15,
   "source": [
    "def createCounter():\n",
    "    li = [0]\n",
    "    def counter():\n",
    "        li[0] += 1\n",
    "        return li[0]\n",
    "    return counter\n",
    "\n",
    "counter = createCounter()\n",
    "\n",
    "for i in range(10):\n",
    "    print(counter())"
   ],
   "outputs": [
    {
     "output_type": "stream",
     "name": "stdout",
     "text": [
      "1\n",
      "2\n",
      "3\n",
      "4\n",
      "5\n",
      "6\n",
      "7\n",
      "8\n",
      "9\n",
      "10\n"
     ]
    }
   ],
   "metadata": {}
  },
  {
   "cell_type": "code",
   "execution_count": null,
   "source": [
    "import os\n",
    "os.chdir()"
   ],
   "outputs": [],
   "metadata": {}
  }
 ]
}